{
 "cells": [
  {
   "cell_type": "code",
   "execution_count": null,
   "metadata": {},
   "outputs": [],
   "source": [
    "def balanced(text: str) -> bool:\n",
    "    pass "
   ]
  },
  {
   "cell_type": "code",
   "execution_count": null,
   "metadata": {},
   "outputs": [],
   "source": [
    "assert balanced(\"()\")\n",
    "assert balanced(\"<>\")\n",
    "assert balanced(\"{}\")\n",
    "assert balanced(\"[]\")\n",
    "assert balanced(\"([<()>]{})\")\n",
    "assert not balanced(\"[]]\")\n",
    "assert not balanced(\"[[]\")\n",
    "assert not balanced(\"[[)\")\n",
    "assert not balanced(\"{[)\")\n",
    "assert not balanced(\"{[<\")\n",
    "assert not balanced(\">})\")"
   ]
  },
  {
   "cell_type": "code",
   "execution_count": null,
   "metadata": {},
   "outputs": [],
   "source": [
    "def flatten(list_of_lists: list) -> list:\n",
    "    pass"
   ]
  },
  {
   "cell_type": "code",
   "execution_count": null,
   "metadata": {},
   "outputs": [],
   "source": [
    "assert flatten([]) == []\n",
    "assert flatten([1,2,3]) == [1,2,3]\n",
    "assert flatten([[[1,2,3],4],5]) == [1, 2, 3, 4, 5]\n",
    "assert flatten([1,2,3,[4,5],[6,[7,8],9]]) == [1, 2, 3, 4, 5, 6, 7, 8, 9]"
   ]
  },
  {
   "cell_type": "code",
   "execution_count": null,
   "metadata": {},
   "outputs": [],
   "source": [
    "\"\"\"\n",
    "1. If we have a returnHorizon attr, create a return_horizons array.\n",
    "    This array will have only 1 item, the full object of the specified return horizon.\n",
    "    \n",
    "2. If we have a returnHorizons attr, create a return_horizons array with all the objects\n",
    "   for the specified return horizons.\n",
    "   \n",
    "We only have two return horizons. weekly_forward_returns and monthly forward_returns.\n",
    "This are the full rh objects that we will use:\n",
    "\n",
    "{\n",
    "name: 'Weekly forward returns',\n",
    "type: 'weekly_forward_returns',\n",
    "periods: { frequency: 'WEEKLY', amount: 1 },\n",
    "clip: [-1, 1],\n",
    "},\n",
    "\n",
    "{\n",
    "name: 'Monthly forward returns',\n",
    "type: 'monthly_forward_returns',\n",
    "periods: { frequency: 'MONTHLY', amount: 1 },\n",
    "clip: [-1, 1],\n",
    "},\n",
    "\n",
    "\"\"\"\n",
    "data = [(13, {'widgets': [{'component': 'CumulativeSpReturns', 'title': 'Cumulative SP Returns', 'params': {'returnHorizons': ['weekly_forward_returns', 'monthly_forward_returns']}, 'id': '0.52cin6uwkma'}]}), (14, {'widgets': [{'component': 'CoverageByCountry', 'form': False, 'title': 'Coverage by Country', 'id': '0.fjlv0ii5dnv', 'jobData': {'unigen': ['quotation_country']}}, {'component': 'CoverageByCurrency', 'form': False, 'title': 'Coverage by Currency', 'id': '0.dgh886ay0k', 'jobData': {'unigen': ['currency']}}, {'component': 'CoverageByAsset', 'form': False, 'title': 'Coverage by Asset Type', 'id': '0.cbby3zuwxko', 'jobData': {'unigen': ['asset_type']}}]}), (15, {'widgets': [{'component': 'CumulativeSpReturns', 'title': 'Cumulative SP Returns', 'params': {'returnHorizons': ['weekly_forward_returns', 'monthly_forward_returns']}, 'id': '0.52cin6uwkma'}]}), (16, {'widgets': [{'component': 'CumulativeSpReturns', 'title': 'Cumulative SP Returns', 'params': {'returnHorizons': ['weekly_forward_returns', 'monthly_forward_returns']}, 'id': '0.52cin6uwkma'}]}), (17, {'widgets': [{'component': 'CumulativeSpReturns', 'title': 'Cumulative SP Returns', 'params': {'returnHorizons': ['weekly_forward_returns', 'monthly_forward_returns']}, 'id': '0.52cin6uwkma'}]}), (18, {'widgets': [{'component': 'CoverageByCountry', 'form': False, 'title': 'Coverage by Country', 'jobData': {'unigen': ['quotation_country']}, 'id': '0.8yp34ktzjmg'}, {'component': 'CoverageByAsset', 'form': False, 'title': 'Coverage by Asset Type', 'jobData': {'unigen': ['asset_type']}, 'id': '0.xw3c46la7s'}]}), (19, {'widgets': [{'component': 'CumulativeSpReturns', 'title': 'Cumulative SP Returns', 'params': {'returnHorizons': ['weekly_forward_returns', 'monthly_forward_returns']}, 'id': '0.52cin6uwkma'}]}), (20, {'widgets': [{'component': 'CumulativeSpReturns', 'title': 'Cumulative SP Returns', 'params': {'returnHorizons': ['weekly_forward_returns', 'monthly_forward_returns']}, 'id': '0.52cin6uwkma'}]}), (21, {'widgets': [{'component': 'CumulativeSpReturns', 'title': 'Cumulative SP Returns', 'params': {'returnHorizons': ['weekly_forward_returns', 'monthly_forward_returns']}, 'id': '0.52cin6uwkma'}]}), (22, {'widgets': [{'component': 'CumulativeSpReturns', 'title': 'Cumulative SP Returns', 'params': {'returnHorizons': ['weekly_forward_returns', 'monthly_forward_returns']}, 'id': '0.52cin6uwkma'}]}), (9, {'widgets': [{'component': 'CumulativeSpReturns', 'title': 'Cumulative SP Returns', 'form': True, 'params': {'returnHorizons': ['weekly_forward_returns', 'monthly_forward_returns']}, 'id': '0.8twmlszho9i'}, {'component': 'RadarSpReturns', 'title': 'Radar Sp Returns', 'form': True, 'params': {'variant': 'horizons', 'returnHorizons': ['weekly_forward_returns', 'monthly_forward_returns']}, 'id': '0.c0arbvl6swt'}, {'component': 'AverageSpReturnsByHorizon', 'title': 'Average Sp Returns by Horizon', 'form': True, 'params': {'variant': 'horizons', 'returnHorizons': ['weekly_forward_returns', 'monthly_forward_returns']}, 'id': '0.ei2pvcac13j'}]}), (10, {'widgets': [{'component': 'CumulativeSpReturns', 'title': 'Cumulative SP Returns', 'params': {'returnHorizons': ['weekly_forward_returns', 'monthly_forward_returns']}, 'id': '0.52cin6uwkma'}]}), (11, {'widgets': [{'component': 'CumulativeSpReturns', 'title': 'Cumulative SP Returns', 'params': {'returnHorizons': ['weekly_forward_returns', 'monthly_forward_returns']}, 'id': '0.52cin6uwkma'}]}), (23, {'widgets': [{'component': 'CumulativeSpReturns', 'title': 'Cumulative SP Returns', 'params': {'returnHorizons': ['weekly_forward_returns', 'monthly_forward_returns']}, 'id': '0.52cin6uwkma'}]}), (12, {'widgets': [{'component': 'CumulativeSpReturns', 'title': 'Cumulative SP Returns', 'params': {'returnHorizons': ['weekly_forward_returns', 'monthly_forward_returns']}, 'id': '0.52cin6uwkma'}]}), (24, {'widgets': [{'component': 'CumulativeSpReturns', 'title': 'Cumulative SP Returns', 'params': {'returnHorizons': ['weekly_forward_returns', 'monthly_forward_returns']}, 'id': '0.52cin6uwkma'}]}), (25, {'widgets': [{'component': 'CumulativeSpReturns', 'title': 'Cumulative SP Returns', 'params': {'returnHorizons': ['weekly_forward_returns', 'monthly_forward_returns']}, 'id': '0.52cin6uwkma'}]}), (26, {'widgets': [{'component': 'CumulativeSpReturns', 'title': 'Cumulative SP Returns', 'params': {'returnHorizons': ['weekly_forward_returns', 'monthly_forward_returns']}, 'id': '0.52cin6uwkma'}]}), (27, {'widgets': [{'component': 'CumulativeSpReturns', 'title': 'Cumulative SP Returns', 'params': {'returnHorizons': ['weekly_forward_returns', 'monthly_forward_returns']}, 'id': '0.52cin6uwkma'}]}), (28, {'widgets': [{'component': 'CumulativeSpReturns', 'title': 'Cumulative SP Returns', 'params': {'returnHorizons': ['weekly_forward_returns', 'monthly_forward_returns']}, 'id': '0.52cin6uwkma'}]}), (29, {'widgets': [{'component': 'CumulativeSpReturns', 'title': 'Cumulative SP Returns', 'params': {'returnHorizons': ['weekly_forward_returns', 'monthly_forward_returns']}, 'id': '0.52cin6uwkma'}]}), (31, {'widgets': [{'component': 'CumulativeSpReturns', 'title': 'Cumulative SP Returns', 'params': {'returnHorizons': ['weekly_forward_returns', 'monthly_forward_returns']}, 'id': '0.52cin6uwkma'}]}), (32, {'widgets': [{'component': 'CumulativeSpReturns', 'title': 'Cumulative SP Returns', 'params': {'returnHorizons': ['weekly_forward_returns', 'monthly_forward_returns']}, 'id': '0.52cin6uwkma'}]}), (33, {'widgets': [{'component': 'CumulativeSpReturns', 'title': 'Cumulative SP Returns', 'params': {'returnHorizons': ['weekly_forward_returns', 'monthly_forward_returns']}, 'id': '0.52cin6uwkma'}]}), (34, {'widgets': [{'component': 'CumulativeSpReturns', 'title': 'Cumulative SP Returns', 'params': {'returnHorizons': ['weekly_forward_returns', 'monthly_forward_returns']}, 'id': '0.52cin6uwkma'}]}), (35, {'widgets': [{'component': 'CumulativeSpReturns', 'title': 'Cumulative SP Returns', 'params': {'returnHorizons': ['weekly_forward_returns', 'monthly_forward_returns']}, 'id': '0.52cin6uwkma'}]}), (62, {'widgets': [{'component': 'CumulativeSpReturns', 'title': 'Cumulative SP Returns', 'params': {'returnHorizons': ['weekly_forward_returns', 'monthly_forward_returns']}, 'id': '0.52cin6uwkma'}]}), (37, {'widgets': [{'component': 'CoverageByCountry', 'form': False, 'title': 'Coverage by Country', 'jobData': {'unigen': ['quotation_country']}, 'id': '0.mxc53dlp3nq'}, {'component': 'CoverageByCurrency', 'form': False, 'title': 'Coverage by Currency', 'jobData': {'unigen': ['currency']}, 'id': '0.toccqqrv6bj'}, {'component': 'CoverageByAsset', 'form': False, 'title': 'Coverage by Asset Type', 'jobData': {'unigen': ['asset_type']}, 'id': '0.4681vdyg5ix'}, {'component': 'CoverageByIssuerCountry', 'form': False, 'title': 'Coverage by Issuer Country', 'jobData': {'unigen': ['issuer_country']}, 'id': '0.2vt8bcow6kc'}, {'component': 'CoverageByGicsGroup', 'form': False, 'title': 'Coverage by GICS Group', 'jobData': {'unigen': ['gics_group_code']}, 'id': '0.i0gpl33kcps'}, {'component': 'CoverageByGicsSector', 'form': False, 'title': 'Coverage by GICS Sector', 'jobData': {'unigen': ['gics_sector_code']}, 'id': '0.7n6xdtd9lfr'}, {'component': 'CoverageByGicsIndustry', 'form': False, 'title': 'Coverage by GICS Industry', 'jobData': {'unigen': ['gics_industry_code']}, 'id': '0.aq3q69a9iyf'}, {'component': 'CoverageByGicsSubindustry', 'form': False, 'title': 'Coverage by GICS Subindustry', 'jobData': {'unigen': ['gics_subindustry_code']}, 'id': '0.lpt9kna9v2b'}]}), (36, {'widgets': [{'component': 'CumulativeSpReturns', 'title': 'Cumulative SP Returns', 'params': {'returnHorizons': ['weekly_forward_returns', 'monthly_forward_returns']}, 'id': '0.52cin6uwkma', 'jobData': {'sa-sp-returns': ['sp_returns']}}, {'component': 'RadarSpReturns', 'title': 'Radar Sp Returns', 'form': True, 'params': {'variant': 'horizons', 'returnHorizons': ['weekly_forward_returns', 'monthly_forward_returns']}, 'jobData': {'sa-sp-returns': ['sp_returns']}, 'id': '0.ohdguqy3ur'}, {'component': 'AverageSpReturnsByHorizon', 'title': 'Average Sp Returns by Horizon', 'form': True, 'params': {'variant': 'horizons', 'returnHorizons': ['weekly_forward_returns', 'monthly_forward_returns']}, 'jobData': {'sa-sp-returns': ['sp_returns']}, 'id': '0.4bjfyqo1035'}, {'component': 'AverageSpReturnsByHistory', 'title': 'Average Sp Returns by History', 'form': True, 'params': {'returnHorizon': 'weekly_forward_returns', 'histories': ['1 Year', '3 Years', '5 Years', 'Full']}, 'jobData': {'sa-sp-returns': ['sp_returns']}, 'id': '0.onbknbq0ee8'}]}), (38, {'widgets': [{'component': 'CumulativeSpReturns', 'title': 'Cumulative SP Returns', 'params': {'returnHorizons': ['weekly_forward_returns', 'monthly_forward_returns']}, 'id': '0.52cin6uwkma'}]}), (39, {'widgets': [{'component': 'CumulativeSpReturns', 'title': 'Cumulative SP Returns', 'params': {'returnHorizons': ['weekly_forward_returns', 'monthly_forward_returns']}, 'id': '0.52cin6uwkma'}]}), (40, {'widgets': [{'component': 'CoverageByCountry', 'form': False, 'title': 'Coverage by Country', 'jobData': {'unigen': ['quotation_country']}, 'id': '0.4vi5qdatc68'}, {'component': 'CoverageByCurrency', 'form': False, 'title': 'Coverage by Currency', 'jobData': {'unigen': ['currency']}, 'id': '0.dlzr2e6vc6v'}, {'component': 'CoverageByAsset', 'form': False, 'title': 'Coverage by Asset Type', 'jobData': {'unigen': ['asset_type']}, 'id': '0.rtsdg4ogc1'}, {'component': 'CoverageByIssuerCountry', 'form': False, 'title': 'Coverage by Issuer Country', 'jobData': {'unigen': ['issuer_country']}, 'id': '0.2f54iovszs1'}, {'component': 'CoverageByGicsGroup', 'form': False, 'title': 'Coverage by GICS Group', 'jobData': {'unigen': ['gics_group_code']}, 'id': '0.rwr9hvznqp'}, {'component': 'CoverageByGicsSector', 'form': False, 'title': 'Coverage by GICS Sector', 'jobData': {'unigen': ['gics_sector_code']}, 'id': '0.47u5pc86yea'}, {'component': 'CoverageByGicsIndustry', 'form': False, 'title': 'Coverage by GICS Industry', 'jobData': {'unigen': ['gics_industry_code']}, 'id': '0.09064scj4zt2'}, {'component': 'CoverageByGicsSubindustry', 'form': False, 'title': 'Coverage by GICS Subindustry', 'jobData': {'unigen': ['gics_subindustry_code']}, 'id': '0.gvs335sz0e'}]}), (41, {'widgets': [{'component': 'CumulativeSpReturns', 'title': 'Cumulative SP Returns', 'params': {'returnHorizons': ['weekly_forward_returns', 'monthly_forward_returns']}, 'id': '0.52cin6uwkma'}]}), (42, {'widgets': [{'component': 'CumulativeSpReturns', 'title': 'Cumulative SP Returns', 'params': {'returnHorizons': ['weekly_forward_returns', 'monthly_forward_returns']}, 'id': '0.52cin6uwkma'}]}), (43, {'widgets': [{'component': 'CumulativeSpReturns', 'title': 'Cumulative SP Returns', 'params': {'returnHorizons': ['weekly_forward_returns', 'monthly_forward_returns']}, 'id': '0.52cin6uwkma'}]}), (44, {'widgets': [{'component': 'CumulativeSpReturns', 'title': 'Cumulative SP Returns', 'params': {'returnHorizons': ['weekly_forward_returns', 'monthly_forward_returns']}, 'id': '0.52cin6uwkma'}]}), (46, {'widgets': [{'component': 'AverageSpReturnsByHorizon', 'title': 'Average Sp Returns by Horizon', 'form': True, 'params': {'variant': 'horizons', 'returnHorizons': ['weekly_forward_returns', 'monthly_forward_returns']}, 'jobData': {'sa-sp-returns': ['sp_returns']}, 'id': '0.1syocnnek88h'}, {'component': 'RadarSpReturns', 'title': 'Radar Sp Returns', 'form': True, 'params': {'variant': 'horizons', 'returnHorizons': ['weekly_forward_returns', 'monthly_forward_returns']}, 'jobData': {'sa-sp-returns': ['sp_returns']}, 'id': '0.vc01chwe7'}, {'component': 'AverageSpReturnsByHistory', 'title': 'Average Sp Returns by History', 'form': True, 'params': {'returnHorizon': 'weekly_forward_returns', 'histories': ['1 Year', '3 Years', '5 Years', 'Full']}, 'jobData': {'sa-sp-returns': ['sp_returns']}, 'id': '0.l4f6793at'}, {'component': 'CumulativeSpReturns', 'title': 'Cumulative SP Returns', 'form': True, 'params': {'returnHorizons': ['weekly_forward_returns', 'monthly_forward_returns']}, 'jobData': {'sa-sp-returns': ['sp_returns']}, 'id': '0.jmtffunyot'}]}), (47, {'widgets': [{'component': 'CumulativeSpReturns', 'title': 'Cumulative SP Returns', 'params': {'returnHorizons': ['weekly_forward_returns', 'monthly_forward_returns']}, 'id': '0.52cin6uwkma'}]}), (48, {'widgets': [{'component': 'CumulativeSpReturns', 'title': 'Cumulative SP Returns', 'params': {'returnHorizons': ['weekly_forward_returns', 'monthly_forward_returns']}, 'id': '0.52cin6uwkma'}]}), (58, {'widgets': [{'key': 'TotalCoverage', 'component': 'CoverageBy', 'form': False, 'title': 'Total Coverage', 'jobData': {'unigen': ['all']}, 'reportTypes': ['universe'], 'params': {'by': 'all'}, 'fullScreen': True, 'id': '0.3u5topqk008'}, {'key': 'CoverageByQuotationCountry', 'component': 'CoverageBy', 'form': False, 'title': 'Coverage by Quotation Country', 'jobData': {'unigen': ['quotation_country']}, 'reportTypes': ['universe'], 'params': {'by': 'quotation_country'}, 'fullScreen': True, 'id': '0.7lrmgo1c9x5'}, {'key': 'CoverageByCurrency', 'component': 'CoverageBy', 'form': False, 'title': 'Coverage by Currency', 'jobData': {'unigen': ['currency']}, 'reportTypes': ['universe'], 'params': {'by': 'currency'}, 'fullScreen': True, 'id': '0.5ia91oferzt'}, {'key': 'CoverageByAssetType', 'component': 'CoverageBy', 'form': False, 'title': 'Coverage by Asset Type', 'jobData': {'unigen': ['asset_type']}, 'reportTypes': ['universe'], 'params': {'by': 'asset_type'}, 'fullScreen': True, 'id': '0.6u773qctljf'}, {'key': 'CoverageByGICSGroup', 'component': 'CoverageBy', 'form': False, 'title': 'Coverage by GICS Group', 'jobData': {'unigen': ['gics_group_code']}, 'reportTypes': ['universe'], 'params': {'by': 'gics_group_code'}, 'fullScreen': True, 'id': '0.i31056lb0wp'}, {'key': 'CoverageByGICSSector', 'component': 'CoverageBy', 'form': False, 'title': 'Coverage by GICS Sector', 'jobData': {'unigen': ['gics_sector_code']}, 'reportTypes': ['universe'], 'params': {'by': 'gics_sector_code'}, 'fullScreen': True, 'id': '0.okjoe2czuvd'}, {'key': 'CoverageByGICSIndustry', 'component': 'CoverageBy', 'form': False, 'title': 'Coverage by GICS Industry', 'jobData': {'unigen': ['gics_industry_code']}, 'reportTypes': ['universe'], 'params': {'by': 'gics_industry_code'}, 'fullScreen': True, 'id': '0.f9i4odjgeso'}, {'key': 'PercentCoverageByQuotationCountry', 'component': 'StackedCoverageBy', 'form': False, 'title': 'Percent Coverage by Quotation Country', 'jobData': {'unigen': ['quotation_country']}, 'reportTypes': ['universe'], 'params': {'by': 'quotation_country'}, 'fullScreen': True, 'id': '0.c4cgqgzt1x'}, {'key': 'PercentCoverageByCurrency', 'component': 'StackedCoverageBy', 'form': False, 'title': 'Percent Coverage by Currency', 'jobData': {'unigen': ['currency']}, 'reportTypes': ['universe'], 'params': {'by': 'currency'}, 'fullScreen': True, 'id': '0.qzesjv6ahhq'}, {'key': 'PercentCoverageByAssetType', 'component': 'StackedCoverageBy', 'form': False, 'title': 'Percent Coverage by Asset Type', 'jobData': {'unigen': ['asset_type']}, 'reportTypes': ['universe'], 'params': {'by': 'asset_type'}, 'fullScreen': True, 'id': '0.iw01lrw3f5'}, {'key': 'PercentCoverageByQuotationCountry', 'component': 'StackedCoverageBy', 'form': False, 'title': 'Percent Coverage by Quotation Country', 'jobData': {'unigen': ['quotation_country']}, 'reportTypes': ['universe'], 'params': {'by': 'quotation_country'}, 'fullScreen': True, 'id': '0.9wd57iqc7oh'}, {'key': 'PercentCoverageByGICSSector', 'component': 'StackedCoverageBy', 'form': False, 'title': 'Percent Coverage by GICS Sector', 'jobData': {'unigen': ['gics_sector_code']}, 'reportTypes': ['universe'], 'params': {'by': 'gics_sector_code'}, 'fullScreen': True, 'id': '0.z6rvlf8tvxc'}, {'key': 'PercentCoverageByGICSSubindustry', 'component': 'StackedCoverageBy', 'form': False, 'title': 'Percent Coverage by GICS Subindustry', 'jobData': {'unigen': ['gics_subindustry_code']}, 'reportTypes': ['universe'], 'params': {'by': 'gics_subindustry_code'}, 'fullScreen': True, 'id': '0.gz8iw4i9ej'}]}), (45, {'widgets': [{'component': 'CoverageByCountry', 'form': False, 'title': 'Coverage by Country', 'jobData': {'unigen': ['quotation_country']}, 'reportTypes': ['universe'], 'id': '0.xijr53779qs'}, {'component': 'CoverageByCurrency', 'form': False, 'title': 'Coverage by Currency', 'jobData': {'unigen': ['currency']}, 'reportTypes': ['universe'], 'id': '0.ujdww9sfi1n'}, {'component': 'CoverageByAsset', 'form': False, 'title': 'Coverage by Asset Type', 'jobData': {'unigen': ['asset_type']}, 'reportTypes': ['universe'], 'id': '0.9y5clrx7vrv'}, {'component': 'CoverageByIssuerCountry', 'form': False, 'title': 'Coverage by Issuer Country', 'jobData': {'unigen': ['issuer_country']}, 'reportTypes': ['universe'], 'id': '0.8aq8l7demxu'}, {'component': 'CoverageByGicsGroup', 'form': False, 'title': 'Coverage by GICS Group', 'jobData': {'unigen': ['gics_group_code']}, 'reportTypes': ['universe'], 'id': '0.0dp0pu0x5wer'}, {'component': 'CoverageByGicsSector', 'form': False, 'title': 'Coverage by GICS Sector', 'jobData': {'unigen': ['gics_sector_code']}, 'reportTypes': ['universe'], 'id': '0.ykwho3292'}, {'component': 'CoverageByGicsIndustry', 'form': False, 'title': 'Coverage by GICS Industry', 'jobData': {'unigen': ['gics_industry_code']}, 'reportTypes': ['universe'], 'id': '0.7ysbkeibyyr'}, {'component': 'CoverageByGicsSubindustry', 'form': False, 'title': 'Coverage by GICS Subindustry', 'jobData': {'unigen': ['gics_subindustry_code']}, 'reportTypes': ['universe'], 'id': '0.n3nmxrsg3kc'}]}), (49, {'widgets': [{'component': 'CumulativeSpReturns', 'title': 'Cumulative SP Returns', 'params': {'returnHorizons': ['weekly_forward_returns', 'monthly_forward_returns']}, 'id': '0.52cin6uwkma'}]}), (52, {'widgets': [{'component': 'CumulativeSpReturns', 'title': 'Cumulative SP Returns', 'params': {'returnHorizons': ['weekly_forward_returns', 'monthly_forward_returns']}, 'id': '0.52cin6uwkma'}]}), (53, {'widgets': [{'component': 'CumulativeSpReturns', 'title': 'Cumulative SP Returns', 'params': {'returnHorizons': ['weekly_forward_returns', 'monthly_forward_returns']}, 'id': '0.52cin6uwkma'}]}), (54, {'widgets': [{'component': 'CoverageByAsset', 'form': False, 'title': 'Coverage by Asset Type', 'jobData': {'unigen': ['asset_type']}, 'reportTypes': ['universe'], 'id': '0.j5tb8pbl6z'}]}), (55, {'widgets': [{'component': 'CumulativeSpReturns', 'title': 'Cumulative SP Returns', 'form': True, 'params': {'returnHorizons': ['weekly_forward_returns', 'monthly_forward_returns']}, 'jobData': {'sa-sp-returns': ['sp_returns']}, 'reportTypes': ['signal'], 'id': '0.p0tc264980q'}, {'component': 'RadarSpReturns', 'title': 'Radar SP Returns', 'form': True, 'params': {'variant': 'horizons', 'returnHorizons': ['weekly_forward_returns', 'monthly_forward_returns']}, 'jobData': {'sa-sp-returns': ['sp_returns']}, 'reportTypes': ['signal'], 'id': '0.fuiq2nhqsyp'}, {'component': 'AverageSpReturnsByHorizon', 'title': 'Average SP Returns by Horizon', 'form': True, 'params': {'returnHorizons': ['weekly_forward_returns', 'monthly_forward_returns']}, 'jobData': {'sa-sp-returns': ['sp_returns']}, 'reportTypes': ['signal'], 'id': '0.jmk7ddh79uk'}, {'component': 'AverageSpReturnsByHistory', 'title': 'Average SP Returns by History', 'form': True, 'params': {'returnHorizon': 'weekly_forward_returns', 'histories': ['1 Year', '3 Years', '5 Years', 'Full']}, 'jobData': {'sa-sp-returns': ['sp_returns']}, 'reportTypes': ['signal'], 'id': '0.c70espn07ii'}]}), (30, {'widgets': [{'component': 'CumulativeSpReturns', 'title': 'Cumulative SP Returns', 'params': {'returnHorizons': ['weekly_forward_returns', 'monthly_forward_returns']}, 'id': '0.52cin6uwkma'}, {'component': 'RadarSpReturns', 'title': 'Radar SP Returns', 'form': True, 'params': {'variant': 'horizons', 'returnHorizons': ['weekly_forward_returns', 'monthly_forward_returns']}, 'jobData': {'sa-sp-returns': ['sp_returns']}, 'reportTypes': ['signal'], 'id': '0.o6wbas68i6'}, {'component': 'AverageSpReturnsByHorizon', 'title': 'Average SP Returns by Horizon', 'form': True, 'params': {'returnHorizons': ['weekly_forward_returns', 'monthly_forward_returns']}, 'jobData': {'sa-sp-returns': ['sp_returns']}, 'reportTypes': ['signal'], 'id': '0.l5kmq2suarl'}, {'component': 'AverageSpReturnsByHistory', 'title': 'Average SP Returns by History', 'form': True, 'params': {'returnHorizon': 'weekly_forward_returns', 'histories': ['1 Year', '3 Years', '5 Years', 'Full']}, 'jobData': {'sa-sp-returns': ['sp_returns']}, 'reportTypes': ['signal'], 'id': '0.ln5yuu0a0wb'}]}), (56, {'widgets': [{'component': 'CumulativeSpReturns', 'title': 'Cumulative SP Returns', 'form': True, 'params': {'returnHorizons': ['weekly_forward_returns', 'monthly_forward_returns']}, 'jobData': {'sa-sp-returns': ['sp_returns']}, 'reportTypes': ['signal'], 'id': '0.wb5fw7avgi'}]}), (57, {'widgets': [{'component': 'TotalCoverage', 'form': False, 'title': 'Total Coverage', 'jobData': {'unigen': ['all']}, 'reportTypes': ['universe'], 'id': '0.4hgegeentdh'}]}), (51, {'widgets': [{'key': 'CumulativeSpReturns', 'component': 'CumulativeSpReturns', 'title': 'Cumulative SP Returns', 'form': True, 'params': {'returnHorizons': ['weekly_forward_returns', 'monthly_forward_returns']}, 'jobData': {'sa-sp-returns': ['sp_returns']}, 'reportTypes': ['signal'], 'fullScreen': True, 'id': '0.0pt62xw9kgbq'}, {'key': 'RadarSpReturns', 'component': 'RadarSpReturns', 'title': 'Radar SP Returns', 'form': True, 'params': {'variant': 'horizons', 'returnHorizons': ['weekly_forward_returns', 'monthly_forward_returns']}, 'jobData': {'sa-sp-returns': ['sp_returns']}, 'reportTypes': ['signal'], 'fullScreen': True, 'id': '0.ib24o6hrc4p'}, {'key': 'AverageSpReturnsByHorizon', 'component': 'AverageSpReturnsByHorizon', 'title': 'Average SP Returns by Horizon', 'form': True, 'params': {'returnHorizons': ['weekly_forward_returns', 'monthly_forward_returns']}, 'jobData': {'sa-sp-returns': ['sp_returns']}, 'reportTypes': ['signal'], 'fullScreen': True, 'id': '0.u8imdnif0pd'}, {'key': 'AverageSpReturnsByHistory', 'component': 'AverageSpReturnsByHistory', 'title': 'Average SP Returns by History', 'form': True, 'params': {'returnHorizon': 'weekly_forward_returns', 'histories': ['1 Year', '3 Years', '5 Years', 'Full']}, 'jobData': {'sa-sp-returns': ['sp_returns']}, 'reportTypes': ['signal'], 'fullScreen': True, 'id': '0.tfp0w1dxuar'}]}), (59, {'widgets': [{'key': 'CumulativeSpReturns', 'component': 'CumulativeSpReturns', 'title': 'Cumulative SP Returns', 'form': True, 'params': {'returnHorizons': ['weekly_forward_returns', 'monthly_forward_returns']}, 'jobData': {'sa-sp-returns': ['sp_returns']}, 'reportTypes': ['dataset'], 'fullScreen': True, 'id': '0.1eaa2clkk6d'}, {'key': 'RadarSpReturns', 'component': 'RadarSpReturns', 'title': 'Radar SP Returns', 'form': True, 'params': {'variant': 'horizons', 'returnHorizons': ['weekly_forward_returns', 'monthly_forward_returns']}, 'jobData': {'sa-sp-returns': ['sp_returns']}, 'reportTypes': ['dataset'], 'fullScreen': True, 'id': '0.exou0lvadka'}]}), (61, {'widgets': [{'component': 'CumulativeSpReturns', 'title': 'Cumulative SP Returns', 'params': {'returnHorizons': ['weekly_forward_returns', 'monthly_forward_returns']}, 'id': '0.52cin6uwkma'}]}), (50, {'widgets': [{'key': 'CumulativeSpReturns', 'component': 'CumulativeSpReturns', 'title': 'Cumulative SP Returns', 'form': True, 'params': {'returnHorizons': ['weekly_forward_returns']}, 'jobData': {'sa-sp-returns': ['sp_returns']}, 'reportTypes': ['signal'], 'fullScreen': True, 'id': '0.9mdonk139mr'}, {'key': 'RadarSpReturns', 'component': 'RadarSpReturns', 'title': 'Radar SP Returns', 'form': True, 'params': {'variant': 'histories', 'returnHorizon': 'weekly_forward_returns', 'histories': ['3 Years']}, 'jobData': {'sa-sp-returns': ['sp_returns']}, 'reportTypes': ['signal'], 'fullScreen': True, 'id': '0.oc6lu6hnrl'}, {'key': 'AverageSpReturnsByHorizon', 'component': 'AverageSpReturnsByHorizon', 'title': 'Average SP Returns by Horizon', 'form': True, 'params': {'returnHorizons': ['weekly_forward_returns', 'monthly_forward_returns']}, 'jobData': {'sa-sp-returns': ['sp_returns']}, 'reportTypes': ['signal'], 'fullScreen': True, 'id': '0.yv1r5wvh0s8'}, {'key': 'AverageSpReturnsByHistory', 'component': 'AverageSpReturnsByHistory', 'title': 'Average SP Returns by History', 'form': True, 'params': {'returnHorizon': 'monthly_forward_returns', 'histories': ['1 Year', '3 Years', '5 Years', 'Full']}, 'jobData': {'sa-sp-returns': ['sp_returns']}, 'reportTypes': ['signal'], 'fullScreen': True, 'id': '0.y0v5jy6iqgq'}]}), (63, {'widgets': [{'component': 'CumulativeSpReturns', 'title': 'Cumulative SP Returns', 'params': {'returnHorizons': ['weekly_forward_returns', 'monthly_forward_returns']}, 'id': '0.52cin6uwkma'}]}), (64, {'widgets': [{'component': 'CumulativeSpReturns', 'title': 'Cumulative SP Returns', 'params': {'returnHorizons': ['weekly_forward_returns', 'monthly_forward_returns']}, 'id': '0.52cin6uwkma'}]}), (60, {'widgets': [{'key': 'CoverageByQuotationCountry', 'component': 'CoverageBy', 'form': False, 'title': 'Coverage by Quotation Country', 'jobData': {'unigen': ['quotation_country']}, 'reportTypes': ['universe'], 'params': {'by': 'quotation_country'}, 'fullScreen': True, 'id': '0.8zs1736ike6'}, {'key': 'CoverageByQuotationCountry', 'component': 'CoverageBy', 'form': False, 'title': 'Coverage by Quotation Country', 'jobData': {'unigen': ['quotation_country']}, 'reportTypes': ['universe'], 'params': {'by': 'quotation_country'}, 'fullScreen': True, 'id': '0.ltu69zox4ee'}, {'key': 'CoverageByGICSSector', 'component': 'CoverageBy', 'form': False, 'title': 'Coverage by GICS Sector', 'jobData': {'unigen': ['gics_sector_code']}, 'reportTypes': ['universe'], 'params': {'by': 'gics_sector_code'}, 'fullScreen': True, 'id': '0.61q25yju33o'}, {'key': 'PercentCoverageByQuotationCountry', 'component': 'StackedCoverageBy', 'form': False, 'title': 'Percent Coverage by Quotation Country', 'jobData': {'unigen': ['quotation_country']}, 'reportTypes': ['universe'], 'params': {'by': 'quotation_country'}, 'fullScreen': True, 'id': '0.2sdcn5bpjv6'}, {'key': 'CoverageByGICSIndustry', 'component': 'CoverageBy', 'form': False, 'title': 'Coverage by GICS Industry', 'jobData': {'unigen': ['gics_industry_code']}, 'reportTypes': ['universe'], 'params': {'by': 'gics_industry_code'}, 'fullScreen': True, 'id': '0.l3swtwstnd'}, {'key': 'PercentCoverageByAssetType', 'component': 'StackedCoverageBy', 'form': False, 'title': 'Percent Coverage by Asset Type', 'jobData': {'unigen': ['asset_type']}, 'reportTypes': ['universe'], 'params': {'by': 'asset_type'}, 'fullScreen': True, 'id': '0.rul4wh8yy5f'}, {'key': 'PercentCoverageByCurrency', 'component': 'StackedCoverageBy', 'form': False, 'title': 'Percent Coverage by Currency', 'jobData': {'unigen': ['currency']}, 'reportTypes': ['universe'], 'params': {'by': 'currency'}, 'fullScreen': True, 'id': '0.6w16mrly7ov'}, {'key': 'PercentCoverageByCurrency', 'component': 'StackedCoverageBy', 'form': False, 'title': 'Percent Coverage by Currency', 'jobData': {'unigen': ['currency']}, 'reportTypes': ['universe'], 'params': {'by': 'currency'}, 'fullScreen': True, 'id': '0.ehj41tib6f9'}]}), (65, {'widgets': [{'id': '0.gva712ao63q', 'key': 'TotalCoverage', 'params': {'by': 'all'}}, {'id': '0.r87y81kjjye', 'key': 'CoverageByQuotationCountry', 'params': {'by': 'quotation_country'}}, {'id': '0.02pzo99j943m', 'key': 'CoverageByCurrency', 'params': {'by': 'currency'}}, {'id': '0.q0dlcsa3an', 'key': 'CoverageByAssetType', 'params': {'by': 'asset_type'}}, {'id': '0.esrtbyr1kcp', 'key': 'CoverageByIssuerCountry', 'params': {'by': 'issuer_country'}}, {'id': '0.hu3wiwbcewh', 'key': 'CoverageByGICSGroup', 'params': {'by': 'gics_group_code'}}], 'mode': 'fullscreen'}), (66, {'widgets': [{'id': 'cbo6iq5qtia', 'key': 'TotalCoverage', 'params': {'by': 'all'}}, {'id': 'aw347goq048', 'key': 'CoverageByAssetType', 'params': {'by': 'asset_type'}}, {'id': '27krc3ok6qi', 'key': 'CoverageByGICSSubindustry', 'params': {'by': 'gics_subindustry_code'}}, {'id': 'jy3m124jztg', 'key': 'PercentCoverageByQuotationCountry', 'params': {'by': 'quotation_country'}}, {'id': '5ckbel6iu5k', 'key': 'PercentCoverageByCurrency', 'params': {'by': 'currency'}}, {'id': '257ll8xu2bo', 'key': 'PercentCoverageByGICSSector', 'params': {'by': 'gics_sector_code'}}, {'id': '3z4sgo7czbq', 'key': 'PercentCoverageByGICSIndustry', 'params': {'by': 'gics_industry_code'}}, {'id': 'rghbnja9k5', 'key': 'PercentCoverageByGICSSubindustry', 'params': {'by': 'gics_subindustry_code'}}, {'id': 'qbrtnxlyl', 'key': 'CoverageByGICSSector', 'params': {'by': 'gics_sector_code'}}], 'mode': 'grid'})]\n"
   ]
  },
  {
   "cell_type": "code",
   "execution_count": null,
   "metadata": {},
   "outputs": [],
   "source": [
    "data[0]"
   ]
  },
  {
   "cell_type": "code",
   "execution_count": null,
   "metadata": {
    "scrolled": true
   },
   "outputs": [],
   "source": [
    "(13,\n",
    " {'widgets': [{'component': 'CumulativeSpReturns',\n",
    "    'title': 'Cumulative SP Returns',\n",
    "    'params': {'returnHorizons': ['weekly_forward_returns',\n",
    "      'monthly_forward_returns'],\n",
    "     'return_horizons': [{'name': 'Weekly forward returns',\n",
    "       'type': 'weekly_forward_returns',\n",
    "       'periods': {'frequency': 'WEEKLY', 'amount': 1},\n",
    "       'clip': [-1, 1]},\n",
    "      {'name': 'Monthly forward returns',\n",
    "       'type': 'monthly_forward_returns',\n",
    "       'periods': {'frequency': 'MONTHLY', 'amount': 1},\n",
    "       'clip': [-1, 1]}]},\n",
    "    'id': '0.52cin6uwkma'}]})"
   ]
  },
  {
   "cell_type": "code",
   "execution_count": null,
   "metadata": {},
   "outputs": [],
   "source": [
    "(36,\n",
    " {'widgets': [{'component': 'CumulativeSpReturns',\n",
    "    'title': 'Cumulative SP Returns',\n",
    "    'params': {'returnHorizons': ['weekly_forward_returns',\n",
    "      'monthly_forward_returns']},\n",
    "    'id': '0.52cin6uwkma',\n",
    "    'jobData': {'sa-sp-returns': ['sp_returns']}},\n",
    "   {'component': 'RadarSpReturns',\n",
    "    'title': 'Radar Sp Returns',\n",
    "    'form': True,\n",
    "    'params': {'variant': 'horizons',\n",
    "     'returnHorizons': ['weekly_forward_returns', 'monthly_forward_returns']},\n",
    "    'jobData': {'sa-sp-returns': ['sp_returns']},\n",
    "    'id': '0.ohdguqy3ur'},\n",
    "   {'component': 'AverageSpReturnsByHorizon',\n",
    "    'title': 'Average Sp Returns by Horizon',\n",
    "    'form': True,\n",
    "    'params': {'variant': 'horizons',\n",
    "     'returnHorizons': ['weekly_forward_returns', 'monthly_forward_returns']},\n",
    "    'jobData': {'sa-sp-returns': ['sp_returns']},\n",
    "    'id': '0.4bjfyqo1035'},\n",
    "   {'component': 'AverageSpReturnsByHistory',\n",
    "    'title': 'Average Sp Returns by History',\n",
    "    'form': True,\n",
    "    'params': {'returnHorizon': 'weekly_forward_returns',\n",
    "     'histories': ['1 Year', '3 Years', '5 Years', 'Full']},\n",
    "    'jobData': {'sa-sp-returns': ['sp_returns']},\n",
    "    'id': '0.onbknbq0ee8'}]})"
   ]
  },
  {
   "cell_type": "code",
   "execution_count": null,
   "metadata": {},
   "outputs": [],
   "source": [
    "import seaborn as sns"
   ]
  },
  {
   "cell_type": "code",
   "execution_count": null,
   "metadata": {},
   "outputs": [],
   "source": [
    "tips = sns.load_dataset(\"tips\")\n",
    "titanic = sns.load_dataset(\"titanic\")"
   ]
  }
 ],
 "metadata": {
  "kernelspec": {
   "display_name": "Python 3",
   "language": "python",
   "name": "python3"
  },
  "language_info": {
   "codemirror_mode": {
    "name": "ipython",
    "version": 3
   },
   "file_extension": ".py",
   "mimetype": "text/x-python",
   "name": "python",
   "nbconvert_exporter": "python",
   "pygments_lexer": "ipython3",
   "version": "3.8.3"
  }
 },
 "nbformat": 4,
 "nbformat_minor": 4
}
