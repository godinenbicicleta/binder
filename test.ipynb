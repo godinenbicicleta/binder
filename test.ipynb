{
 "cells": [
  {
   "cell_type": "code",
   "execution_count": 1,
   "metadata": {},
   "outputs": [],
   "source": [
    "def balanced(text: str) -> bool:\n",
    "    pass "
   ]
  },
  {
   "cell_type": "code",
   "execution_count": null,
   "metadata": {},
   "outputs": [],
   "source": [
    "assert balanced(\"()\")\n",
    "assert balanced(\"<>\")\n",
    "assert balanced(\"{}\")\n",
    "assert balanced(\"[]\")\n",
    "assert balanced(\"([<()>]{})\")\n",
    "assert not balanced(\"[]]\")\n",
    "assert not balanced(\"[[]\")\n",
    "assert not balanced(\"[[)\")\n",
    "assert not balanced(\"{[)\")\n",
    "assert not balanced(\"{[<\")\n",
    "assert not balanced(\">})\")"
   ]
  },
  {
   "cell_type": "code",
   "execution_count": null,
   "metadata": {},
   "outputs": [],
   "source": [
    "def flatten(list_of_lists: list) -> list:\n",
    "    pass"
   ]
  },
  {
   "cell_type": "code",
   "execution_count": null,
   "metadata": {},
   "outputs": [],
   "source": [
    "assert flatten([]) == []\n",
    "assert flatten([1,2,3]) == [1,2,3]\n",
    "assert flatten([[[1,2,3],4],5]) == [1, 2, 3, 4, 5]\n",
    "assert flatten([1,2,3,[4,5],[6,[7,8],9]]) == [1, 2, 3, 4, 5, 6, 7, 8, 9]"
   ]
  },
  {
   "cell_type": "code",
   "execution_count": 1,
   "metadata": {},
   "outputs": [],
   "source": [
    "import seaborn as sns"
   ]
  },
  {
   "cell_type": "code",
   "execution_count": 3,
   "metadata": {},
   "outputs": [],
   "source": [
    "tips = sns.load_dataset(\"tips\")\n",
    "titanic = sns.load_dataset(\"titanic\")"
   ]
  }
 ],
 "metadata": {
  "kernelspec": {
   "display_name": "Python 3",
   "language": "python",
   "name": "python3"
  },
  "language_info": {
   "codemirror_mode": {
    "name": "ipython",
    "version": 3
   },
   "file_extension": ".py",
   "mimetype": "text/x-python",
   "name": "python",
   "nbconvert_exporter": "python",
   "pygments_lexer": "ipython3",
   "version": "3.8.3"
  }
 },
 "nbformat": 4,
 "nbformat_minor": 4
}
